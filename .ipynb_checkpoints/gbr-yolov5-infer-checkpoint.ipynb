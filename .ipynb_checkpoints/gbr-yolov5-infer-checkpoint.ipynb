{
 "cells": [
  {
   "cell_type": "markdown",
   "metadata": {},
   "source": [
    "# [Tensorflow - Help Protect the Great Barrier Reef](https://www.kaggle.com/c/tensorflow-great-barrier-reef)\n",
    "> Detect crown-of-thorns starfish in underwater image data"
   ]
  },
  {
   "cell_type": "markdown",
   "metadata": {},
   "source": [
    "## 📒 Notebooks:\n",
    "* Train: [Great-Barrier-Reef: YOLOv5 [train] 🌊](https://www.kaggle.com/awsaf49/great-barrier-reef-yolov5-train)\n",
    "* Infer: [Great-Barrier-Reef: YOLOv5 [infer] 🌊](https://www.kaggle.com/awsaf49/great-barrier-reef-yolov5-infer)"
   ]
  },
  {
   "cell_type": "markdown",
   "metadata": {},
   "source": [
    "# 🛠 Install Libraries"
   ]
  },
  {
   "cell_type": "code",
   "execution_count": null,
   "metadata": {
    "_kg_hide-input": true,
    "_kg_hide-output": true,
    "execution": {
     "iopub.execute_input": "2021-12-15T15:46:12.055319Z",
     "iopub.status.busy": "2021-12-15T15:46:12.05495Z",
     "iopub.status.idle": "2021-12-15T15:46:12.059212Z",
     "shell.execute_reply": "2021-12-15T15:46:12.058223Z",
     "shell.execute_reply.started": "2021-12-15T15:46:12.055289Z"
    },
    "jupyter": {
     "source_hidden": true
    }
   },
   "outputs": [],
   "source": [
    "# !pip install -q imagesize\n",
    "# !pip install -qU wandb\n",
    "# !add-apt-repository ppa:ubuntu-toolchain-r/test -y\n",
    "# !apt-get update\n",
    "# !apt-get upgrade libstdc++6 -y"
   ]
  },
  {
   "cell_type": "markdown",
   "metadata": {},
   "source": [
    "# 📚 Import Libraries"
   ]
  },
  {
   "cell_type": "code",
   "execution_count": null,
   "metadata": {
    "_cell_guid": "b1076dfc-b9ad-4769-8c92-a6c4dae69d19",
    "_uuid": "8f2839f25d086af736a60e9eeb907d3b93b6e0e5",
    "execution": {
     "iopub.execute_input": "2021-12-15T15:46:13.215711Z",
     "iopub.status.busy": "2021-12-15T15:46:13.215185Z",
     "iopub.status.idle": "2021-12-15T15:46:15.126584Z",
     "shell.execute_reply": "2021-12-15T15:46:15.125591Z",
     "shell.execute_reply.started": "2021-12-15T15:46:13.215663Z"
    }
   },
   "outputs": [],
   "source": [
    "import ast\n",
    "from PIL import Image\n",
    "import torch\n",
    "import sys\n",
    "import shutil\n",
    "import glob\n",
    "import matplotlib.pyplot as plt\n",
    "import cv2\n",
    "import os\n",
    "import pandas as pd\n",
    "import numpy as np\n",
    "from tqdm.notebook import tqdm\n",
    "tqdm.pandas()\n",
    "sys.path.append('../input/tensorflow-great-barrier-reef')"
   ]
  },
  {
   "cell_type": "markdown",
   "metadata": {},
   "source": [
    "# 📌 Key-Points\n",
    "* One have to submit prediction using the provided **python time-series API**, which makes this competition different from previous Object Detection Competitions.\n",
    "* Each prediction row needs to include all bounding boxes for the image. Submission is format seems also **COCO** which means `[x_min, y_min, width, height]`\n",
    "* Copmetition metric `F2` tolerates some false positives(FP) in order to ensure very few starfish are missed. Which means tackling **false negatives(FN)** is more important than false positives(FP). \n",
    "$$F2 = 5 \\cdot \\frac{precision \\cdot recall}{4\\cdot precision + recall}$$"
   ]
  },
  {
   "cell_type": "markdown",
   "metadata": {},
   "source": [
    "## Please Upvote if you find this Helpful"
   ]
  },
  {
   "cell_type": "markdown",
   "metadata": {},
   "source": [
    "# 📖 Meta Data\n",
    "* `train_images/` - Folder containing training set photos of the form `video_{video_id}/{video_frame}.jpg`.\n",
    "\n",
    "* `[train/test].csv` - Metadata for the images. As with other test files, most of the test metadata data is only available to your notebook upon submission. Just the first few rows available for download.\n",
    "\n",
    "* `video_id` - ID number of the video the image was part of. The video ids are not meaningfully ordered.\n",
    "* `video_frame` - The frame number of the image within the video. Expect to see occasional gaps in the frame number from when the diver surfaced.\n",
    "* `sequence` - ID of a gap-free subset of a given video. The sequence ids are not meaningfully ordered.\n",
    "* `sequence_frame` - The frame number within a given sequence.\n",
    "* `image_id` - ID code for the image, in the format `{video_id}-{video_frame}`\n",
    "* `annotations` - The bounding boxes of any starfish detections in a string format that can be evaluated directly with Python. Does not use the same format as the predictions you will submit. Not available in test.csv. A bounding box is described by the pixel coordinate `(x_min, y_min)` of its lower left corner within the image together with its `width` and `height` in pixels --> (COCO format)."
   ]
  },
  {
   "cell_type": "code",
   "execution_count": null,
   "metadata": {
    "execution": {
     "iopub.execute_input": "2021-12-15T15:46:18.229955Z",
     "iopub.status.busy": "2021-12-15T15:46:18.229039Z",
     "iopub.status.idle": "2021-12-15T15:46:18.235471Z",
     "shell.execute_reply": "2021-12-15T15:46:18.234164Z",
     "shell.execute_reply.started": "2021-12-15T15:46:18.229901Z"
    }
   },
   "outputs": [],
   "source": [
    "ROOT_DIR = '/kaggle/input/tensorflow-great-barrier-reef/'\n",
    "CKPT_PATH = '/kaggle/input/greatbarrierreef-yolov5-train-ds/yolov5/runs/train/exp/weights/best.pt'\n",
    "IMG_SIZE = 1280\n",
    "CONF = 0.15\n",
    "IOU = 0.50\n",
    "AUGMENT = False"
   ]
  },
  {
   "cell_type": "code",
   "execution_count": null,
   "metadata": {
    "execution": {
     "iopub.execute_input": "2021-12-15T15:46:19.013208Z",
     "iopub.status.busy": "2021-12-15T15:46:19.01247Z",
     "iopub.status.idle": "2021-12-15T15:46:19.018101Z",
     "shell.execute_reply": "2021-12-15T15:46:19.017005Z",
     "shell.execute_reply.started": "2021-12-15T15:46:19.013176Z"
    }
   },
   "outputs": [],
   "source": [
    "def get_path(row):\n",
    "    row['image_path'] = f'{ROOT_DIR}/train_images/video_{row.video_id}/{row.video_frame}.jpg'\n",
    "    return row"
   ]
  },
  {
   "cell_type": "code",
   "execution_count": null,
   "metadata": {
    "execution": {
     "iopub.execute_input": "2021-12-15T15:46:20.323481Z",
     "iopub.status.busy": "2021-12-15T15:46:20.323025Z",
     "iopub.status.idle": "2021-12-15T15:46:43.259204Z",
     "shell.execute_reply": "2021-12-15T15:46:43.25822Z",
     "shell.execute_reply.started": "2021-12-15T15:46:20.323447Z"
    }
   },
   "outputs": [],
   "source": [
    "# Train Data\n",
    "df = pd.read_csv(f'{ROOT_DIR}/train.csv')\n",
    "df = df.progress_apply(get_path, axis=1)\n",
    "df['annotations'] = df['annotations'].progress_apply(\n",
    "    lambda x: ast.literal_eval(x))\n",
    "display(df.head(2))"
   ]
  },
  {
   "cell_type": "markdown",
   "metadata": {},
   "source": [
    "## Number of BBoxes"
   ]
  },
  {
   "cell_type": "code",
   "execution_count": null,
   "metadata": {
    "execution": {
     "iopub.execute_input": "2021-12-15T15:46:43.262098Z",
     "iopub.status.busy": "2021-12-15T15:46:43.261629Z",
     "iopub.status.idle": "2021-12-15T15:46:43.379639Z",
     "shell.execute_reply": "2021-12-15T15:46:43.378525Z",
     "shell.execute_reply.started": "2021-12-15T15:46:43.262047Z"
    }
   },
   "outputs": [],
   "source": [
    "df['num_bbox'] = df['annotations'].progress_apply(lambda x: len(x))\n",
    "data = (df.num_bbox > 0).value_counts()/len(df)*100\n",
    "print(f\"No BBox: {data[0]:0.2f}% | With BBox: {data[1]:0.2f}%\")"
   ]
  },
  {
   "cell_type": "code",
   "execution_count": null,
   "metadata": {
    "execution": {
     "iopub.execute_input": "2021-12-15T15:46:43.381725Z",
     "iopub.status.busy": "2021-12-15T15:46:43.38122Z",
     "iopub.status.idle": "2021-12-15T15:46:43.391519Z",
     "shell.execute_reply": "2021-12-15T15:46:43.390284Z",
     "shell.execute_reply.started": "2021-12-15T15:46:43.381674Z"
    }
   },
   "outputs": [],
   "source": [
    "data.head()"
   ]
  },
  {
   "cell_type": "markdown",
   "metadata": {},
   "source": [
    "# Formatting functions"
   ]
  },
  {
   "cell_type": "code",
   "execution_count": null,
   "metadata": {
    "_kg_hide-input": true,
    "execution": {
     "iopub.execute_input": "2021-12-15T15:15:44.212958Z",
     "iopub.status.busy": "2021-12-15T15:15:44.212612Z",
     "iopub.status.idle": "2021-12-15T15:15:44.265315Z",
     "shell.execute_reply": "2021-12-15T15:15:44.264072Z",
     "shell.execute_reply.started": "2021-12-15T15:15:44.21289Z"
    },
    "jupyter": {
     "source_hidden": true
    }
   },
   "outputs": [],
   "source": [
    "def voc2yolo(bboxes, image_height=720, image_width=1280):\n",
    "    \"\"\"\n",
    "    voc  => [x1, y1, x2, y1]\n",
    "    yolo => [xmid, ymid, w, h] (normalized)\n",
    "    \"\"\"\n",
    "\n",
    "    # otherwise all value will be 0 as voc_pascal dtype is np.int\n",
    "    bboxes = bboxes.copy().astype(float)\n",
    "\n",
    "    bboxes[..., [0, 2]] = bboxes[..., [0, 2]] / image_width\n",
    "    bboxes[..., [1, 3]] = bboxes[..., [1, 3]] / image_height\n",
    "\n",
    "    w = bboxes[..., 2] - bboxes[..., 0]\n",
    "    h = bboxes[..., 3] - bboxes[..., 1]\n",
    "\n",
    "    bboxes[..., 0] = bboxes[..., 0] + w/2\n",
    "    bboxes[..., 1] = bboxes[..., 1] + h/2\n",
    "    bboxes[..., 2] = w\n",
    "    bboxes[..., 3] = h\n",
    "\n",
    "    return bboxes\n",
    "\n",
    "\n",
    "def yolo2voc(bboxes, image_height=720, image_width=1280):\n",
    "    \"\"\"\n",
    "    yolo => [xmid, ymid, w, h] (normalized)\n",
    "    voc  => [x1, y1, x2, y1]\n",
    "\n",
    "    \"\"\"\n",
    "    bboxes = bboxes.copy().astype(\n",
    "        float)  # otherwise all value will be 0 as voc_pascal dtype is np.int\n",
    "\n",
    "    bboxes[..., [0, 2]] = bboxes[..., [0, 2]] * image_width\n",
    "    bboxes[..., [1, 3]] = bboxes[..., [1, 3]] * image_height\n",
    "\n",
    "    bboxes[..., [0, 1]] = bboxes[..., [0, 1]] - bboxes[..., [2, 3]]/2\n",
    "    bboxes[..., [2, 3]] = bboxes[..., [0, 1]] + bboxes[..., [2, 3]]\n",
    "\n",
    "    return bboxes\n",
    "\n",
    "\n",
    "def coco2yolo(bboxes, image_height=720, image_width=1280):\n",
    "    \"\"\"\n",
    "    coco => [xmin, ymin, w, h]\n",
    "    yolo => [xmid, ymid, w, h] (normalized)\n",
    "    \"\"\"\n",
    "\n",
    "    # otherwise all value will be 0 as voc_pascal dtype is np.int\n",
    "    bboxes = bboxes.copy().astype(float)\n",
    "\n",
    "    # normolizinig\n",
    "    bboxes[..., [0, 2]] = bboxes[..., [0, 2]] / image_width\n",
    "    bboxes[..., [1, 3]] = bboxes[..., [1, 3]] / image_height\n",
    "\n",
    "    # converstion (xmin, ymin) => (xmid, ymid)\n",
    "    bboxes[..., [0, 1]] = bboxes[..., [0, 1]] + bboxes[..., [2, 3]]/2\n",
    "\n",
    "    return bboxes\n",
    "\n",
    "\n",
    "def yolo2coco(bboxes, image_height=720, image_width=1280):\n",
    "    \"\"\"\n",
    "    yolo => [xmid, ymid, w, h] (normalized)\n",
    "    coco => [xmin, ymin, w, h]\n",
    "\n",
    "    \"\"\"\n",
    "    bboxes = bboxes.copy().astype(\n",
    "        float)  # otherwise all value will be 0 as voc_pascal dtype is np.int\n",
    "\n",
    "    # denormalizing\n",
    "    bboxes[..., [0, 2]] = bboxes[..., [0, 2]] * image_width\n",
    "    bboxes[..., [1, 3]] = bboxes[..., [1, 3]] * image_height\n",
    "\n",
    "    # converstion (xmid, ymid) => (xmin, ymin)\n",
    "    bboxes[..., [0, 1]] = bboxes[..., [0, 1]] - bboxes[..., [2, 3]]/2\n",
    "\n",
    "    return bboxes\n",
    "\n",
    "\n",
    "def voc2coco(bboxes, image_height=720, image_width=1280):\n",
    "    bboxes = voc2yolo(bboxes, image_height, image_width)\n",
    "    bboxes = yolo2coco(bboxes, image_height, image_width)\n",
    "    return bboxes\n",
    "\n",
    "\n",
    "def load_image(image_path):\n",
    "    return cv2.cvtColor(cv2.imread(image_path), cv2.COLOR_BGR2RGB)\n",
    "\n",
    "\n",
    "def plot_one_box(x, img, color=None, label=None, line_thickness=None):\n",
    "    # Plots one bounding box on image img\n",
    "    tl = line_thickness or round(\n",
    "        0.002 * (img.shape[0] + img.shape[1]) / 2) + 1  # line/font thickness\n",
    "    color = color or [random.randint(0, 255) for _ in range(3)]\n",
    "    c1, c2 = (int(x[0]), int(x[1])), (int(x[2]), int(x[3]))\n",
    "    cv2.rectangle(img, c1, c2, color, thickness=tl, lineType=cv2.LINE_AA)\n",
    "    if label:\n",
    "        tf = max(tl - 1, 1)  # font thickness\n",
    "        t_size = cv2.getTextSize(label, 0, fontScale=tl / 3, thickness=tf)[0]\n",
    "        c2 = c1[0] + t_size[0], c1[1] - t_size[1] - 3\n",
    "        cv2.rectangle(img, c1, c2, color, -1, cv2.LINE_AA)  # filled\n",
    "        cv2.putText(img, label, (c1[0], c1[1] - 2), 0, tl / 3,\n",
    "                    [225, 255, 255], thickness=tf, lineType=cv2.LINE_AA)\n",
    "\n",
    "\n",
    "def draw_bboxes(img, bboxes, classes, class_ids, colors=None, show_classes=None, bbox_format='yolo', class_name=False, line_thickness=2):\n",
    "\n",
    "    image = img.copy()\n",
    "    show_classes = classes if show_classes is None else show_classes\n",
    "    colors = (0, 255, 0) if colors is None else colors\n",
    "\n",
    "    if bbox_format == 'yolo':\n",
    "\n",
    "        for idx in range(len(bboxes)):\n",
    "\n",
    "            bbox = bboxes[idx]\n",
    "            cls = classes[idx]\n",
    "            cls_id = class_ids[idx]\n",
    "            color = colors[cls_id] if type(colors) is list else colors\n",
    "\n",
    "            if cls in show_classes:\n",
    "\n",
    "                x1 = round(float(bbox[0])*image.shape[1])\n",
    "                y1 = round(float(bbox[1])*image.shape[0])\n",
    "                w = round(float(bbox[2])*image.shape[1]/2)  # w/2\n",
    "                h = round(float(bbox[3])*image.shape[0]/2)\n",
    "\n",
    "                voc_bbox = (x1-w, y1-h, x1+w, y1+h)\n",
    "                plot_one_box(voc_bbox,\n",
    "                             image,\n",
    "                             color=color,\n",
    "                             label=cls if class_name else str(get_label(cls)),\n",
    "                             line_thickness=line_thickness)\n",
    "\n",
    "    elif bbox_format == 'coco':\n",
    "\n",
    "        for idx in range(len(bboxes)):\n",
    "\n",
    "            bbox = bboxes[idx]\n",
    "            cls = classes[idx]\n",
    "            cls_id = class_ids[idx]\n",
    "            color = colors[cls_id] if type(colors) is list else colors\n",
    "\n",
    "            if cls in show_classes:\n",
    "                x1 = int(round(bbox[0]))\n",
    "                y1 = int(round(bbox[1]))\n",
    "                w = int(round(bbox[2]))\n",
    "                h = int(round(bbox[3]))\n",
    "\n",
    "                voc_bbox = (x1, y1, x1+w, y1+h)\n",
    "                plot_one_box(voc_bbox,\n",
    "                             image,\n",
    "                             color=color,\n",
    "                             label=cls if class_name else str(cls_id),\n",
    "                             line_thickness=line_thickness)\n",
    "\n",
    "    elif bbox_format == 'voc_pascal':\n",
    "\n",
    "        for idx in range(len(bboxes)):\n",
    "\n",
    "            bbox = bboxes[idx]\n",
    "            cls = classes[idx]\n",
    "            cls_id = class_ids[idx]\n",
    "            color = colors[cls_id] if type(colors) is list else colors\n",
    "\n",
    "            if cls in show_classes:\n",
    "                x1 = int(round(bbox[0]))\n",
    "                y1 = int(round(bbox[1]))\n",
    "                x2 = int(round(bbox[2]))\n",
    "                y2 = int(round(bbox[3]))\n",
    "                voc_bbox = (x1, y1, x2, y2)\n",
    "                plot_one_box(voc_bbox,\n",
    "                             image,\n",
    "                             color=color,\n",
    "                             label=cls if class_name else str(cls_id),\n",
    "                             line_thickness=line_thickness)\n",
    "    else:\n",
    "        raise ValueError('wrong bbox format')\n",
    "\n",
    "    return image\n",
    "\n",
    "\n",
    "def get_bbox(annots):\n",
    "    bboxes = [list(annot.values()) for annot in annots]\n",
    "    return bboxes\n",
    "\n",
    "\n",
    "def get_imgsize(row):\n",
    "    row['width'], row['height'] = imagesize.get(row['image_path'])\n",
    "    return row\n",
    "\n",
    "\n",
    "np.random.seed(32)\n",
    "colors = [(np.random.randint(255), np.random.randint(255), np.random.randint(255))\n",
    "          for idx in range(1)]"
   ]
  },
  {
   "cell_type": "markdown",
   "metadata": {},
   "source": [
    "# [YOLOv5](https://github.com/ultralytics/yolov5/)"
   ]
  },
  {
   "cell_type": "code",
   "execution_count": null,
   "metadata": {
    "_kg_hide-input": true,
    "execution": {
     "iopub.execute_input": "2021-12-15T15:15:44.269665Z",
     "iopub.status.busy": "2021-12-15T15:15:44.269085Z",
     "iopub.status.idle": "2021-12-15T15:15:45.858039Z",
     "shell.execute_reply": "2021-12-15T15:15:45.856838Z",
     "shell.execute_reply.started": "2021-12-15T15:15:44.269613Z"
    }
   },
   "outputs": [],
   "source": [
    "!mkdir - p / root/.config/Ultralytics\n",
    "!cp / kaggle/input/yolov5-font/Arial.ttf / root/.config/Ultralytics/"
   ]
  },
  {
   "cell_type": "code",
   "execution_count": null,
   "metadata": {
    "_kg_hide-input": true,
    "execution": {
     "iopub.execute_input": "2021-12-15T15:15:45.86155Z",
     "iopub.status.busy": "2021-12-15T15:15:45.860655Z",
     "iopub.status.idle": "2021-12-15T15:15:45.870174Z",
     "shell.execute_reply": "2021-12-15T15:15:45.868852Z",
     "shell.execute_reply.started": "2021-12-15T15:15:45.861486Z"
    }
   },
   "outputs": [],
   "source": [
    "def load_model(ckpt_path, conf=0.25, iou=0.50):\n",
    "    model = torch.hub.load('/kaggle/input/yolov5-lib-ds',\n",
    "                           'custom',\n",
    "                           path=ckpt_path,\n",
    "                           source='local',\n",
    "                           force_reload=True)  # local repo\n",
    "    model.conf = conf  # NMS confidence threshold\n",
    "    model.iou = iou  # NMS IoU threshold\n",
    "    # (optional list) filter by class, i.e. = [0, 15, 16] for persons, cats and dogs\n",
    "    model.classes = None\n",
    "    model.multi_label = False  # NMS multiple labels per box\n",
    "    model.max_det = 1000  # maximum number of detections per image\n",
    "    return model"
   ]
  },
  {
   "cell_type": "markdown",
   "metadata": {},
   "source": [
    "# Inference"
   ]
  },
  {
   "cell_type": "markdown",
   "metadata": {},
   "source": [
    "## Functions for inference"
   ]
  },
  {
   "cell_type": "code",
   "execution_count": null,
   "metadata": {
    "_kg_hide-input": true,
    "execution": {
     "iopub.execute_input": "2021-12-15T15:15:45.873444Z",
     "iopub.status.busy": "2021-12-15T15:15:45.872331Z",
     "iopub.status.idle": "2021-12-15T15:15:45.889926Z",
     "shell.execute_reply": "2021-12-15T15:15:45.888685Z",
     "shell.execute_reply.started": "2021-12-15T15:15:45.873396Z"
    }
   },
   "outputs": [],
   "source": [
    "def predict(model, img, size=768, augment=False):\n",
    "    height, width = img.shape[:2]\n",
    "    results = model(img, size=size, augment=augment)  # custom inference size\n",
    "    preds = results.pandas().xyxy[0]\n",
    "    bboxes = preds[['xmin', 'ymin', 'xmax', 'ymax']].values\n",
    "    if len(bboxes):\n",
    "        bboxes = voc2coco(bboxes, height, width).astype(int)\n",
    "        confs = preds.confidence.values\n",
    "        return bboxes, confs\n",
    "    else:\n",
    "        return [], []\n",
    "\n",
    "\n",
    "def format_prediction(bboxes, confs):\n",
    "    annot = ''\n",
    "    if len(bboxes) > 0:\n",
    "        for idx in range(len(bboxes)):\n",
    "            xmin, ymin, w, h = bboxes[idx]\n",
    "            conf = confs[idx]\n",
    "            annot += f'{conf} {xmin} {ymin} {w} {h}'\n",
    "            annot += ' '\n",
    "        annot = annot.strip(' ')\n",
    "    return annot\n",
    "\n",
    "\n",
    "def show_img(img, bboxes, bbox_format='yolo'):\n",
    "    names = ['starfish']*len(bboxes)\n",
    "    labels = [0]*len(bboxes)\n",
    "    img = draw_bboxes(img=img,\n",
    "                      bboxes=bboxes,\n",
    "                      classes=names,\n",
    "                      class_ids=labels,\n",
    "                      class_name=True,\n",
    "                      colors=colors,\n",
    "                      bbox_format=bbox_format,\n",
    "                      line_thickness=2)\n",
    "    return Image.fromarray(img).resize((800, 400))"
   ]
  },
  {
   "cell_type": "markdown",
   "metadata": {},
   "source": [
    "## Run Inference on **Train**"
   ]
  },
  {
   "cell_type": "code",
   "execution_count": null,
   "metadata": {
    "_kg_hide-input": true,
    "execution": {
     "iopub.execute_input": "2021-12-15T15:15:45.897139Z",
     "iopub.status.busy": "2021-12-15T15:15:45.896051Z",
     "iopub.status.idle": "2021-12-15T15:16:00.499692Z",
     "shell.execute_reply": "2021-12-15T15:16:00.498454Z",
     "shell.execute_reply.started": "2021-12-15T15:15:45.89709Z"
    }
   },
   "outputs": [],
   "source": [
    "model = load_model(CKPT_PATH, conf=CONF, iou=IOU)\n",
    "image_paths = df[df.num_bbox > 1].sample(100).image_path.tolist()\n",
    "for idx, path in enumerate(image_paths):\n",
    "    img = cv2.imread(path)[..., ::-1]\n",
    "    bboxes, confis = predict(model, img, size=IMG_SIZE, augment=AUGMENT)\n",
    "    display(show_img(img, bboxes, bbox_format='coco'))\n",
    "    if idx > 5:\n",
    "        break"
   ]
  },
  {
   "cell_type": "markdown",
   "metadata": {},
   "source": [
    "## Init `Env`"
   ]
  },
  {
   "cell_type": "code",
   "execution_count": null,
   "metadata": {
    "_kg_hide-input": true,
    "execution": {
     "iopub.execute_input": "2021-12-15T15:16:00.502359Z",
     "iopub.status.busy": "2021-12-15T15:16:00.50195Z",
     "iopub.status.idle": "2021-12-15T15:16:00.530591Z",
     "shell.execute_reply": "2021-12-15T15:16:00.529604Z",
     "shell.execute_reply.started": "2021-12-15T15:16:00.502285Z"
    }
   },
   "outputs": [],
   "source": [
    "import greatbarrierreef\n",
    "env = greatbarrierreef.make_env()  # initialize the environment\n",
    "# an iterator which loops over the test set and sample submission\n",
    "iter_test = env.iter_test()"
   ]
  },
  {
   "cell_type": "markdown",
   "metadata": {},
   "source": [
    "## Run Inference on **Test**"
   ]
  },
  {
   "cell_type": "code",
   "execution_count": null,
   "metadata": {
    "_kg_hide-input": true,
    "execution": {
     "iopub.execute_input": "2021-12-15T15:16:00.533857Z",
     "iopub.status.busy": "2021-12-15T15:16:00.532908Z",
     "iopub.status.idle": "2021-12-15T15:16:02.107007Z",
     "shell.execute_reply": "2021-12-15T15:16:02.105833Z",
     "shell.execute_reply.started": "2021-12-15T15:16:00.533796Z"
    }
   },
   "outputs": [],
   "source": [
    "model = load_model(CKPT_PATH, conf=CONF, iou=IOU)\n",
    "for idx, (img, pred_df) in enumerate(tqdm(iter_test)):\n",
    "    bboxes, confs = predict(model, img, size=IMG_SIZE, augment=AUGMENT)\n",
    "    annot = format_prediction(bboxes, confs)\n",
    "    pred_df['annotations'] = annot\n",
    "    env.predict(pred_df)\n",
    "    if idx < 3:\n",
    "        display(show_img(img, bboxes, bbox_format='coco'))"
   ]
  },
  {
   "cell_type": "markdown",
   "metadata": {},
   "source": [
    "# Submission file"
   ]
  },
  {
   "cell_type": "code",
   "execution_count": null,
   "metadata": {
    "execution": {
     "iopub.execute_input": "2021-12-15T15:16:02.110043Z",
     "iopub.status.busy": "2021-12-15T15:16:02.109142Z",
     "iopub.status.idle": "2021-12-15T15:16:02.12919Z",
     "shell.execute_reply": "2021-12-15T15:16:02.127746Z",
     "shell.execute_reply.started": "2021-12-15T15:16:02.109984Z"
    }
   },
   "outputs": [],
   "source": [
    "sub_df = pd.read_csv('submission.csv')\n",
    "sub_df.head()"
   ]
  }
 ],
 "metadata": {
  "kernelspec": {
   "display_name": "Python 3 (ipykernel)",
   "language": "python",
   "name": "python3"
  },
  "language_info": {
   "codemirror_mode": {
    "name": "ipython",
    "version": 3
   },
   "file_extension": ".py",
   "mimetype": "text/x-python",
   "name": "python",
   "nbconvert_exporter": "python",
   "pygments_lexer": "ipython3",
   "version": "3.8.8"
  },
  "toc": {
   "base_numbering": 1,
   "nav_menu": {},
   "number_sections": true,
   "sideBar": true,
   "skip_h1_title": false,
   "title_cell": "Table of Contents",
   "title_sidebar": "Contents",
   "toc_cell": false,
   "toc_position": {},
   "toc_section_display": true,
   "toc_window_display": false
  }
 },
 "nbformat": 4,
 "nbformat_minor": 4
}
